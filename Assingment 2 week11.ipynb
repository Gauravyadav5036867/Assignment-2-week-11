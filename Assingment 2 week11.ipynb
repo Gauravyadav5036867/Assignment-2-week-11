{
 "cells": [
  {
   "cell_type": "code",
   "execution_count": 1,
   "id": "fa20d413-21ee-4038-9a58-af8cae6036e5",
   "metadata": {},
   "outputs": [],
   "source": [
    "#Question 1"
   ]
  },
  {
   "cell_type": "code",
   "execution_count": null,
   "id": "95113bfd-a414-49c7-af9c-e396d4cea2a6",
   "metadata": {},
   "outputs": [],
   "source": [
    "Probability Mass Function (PMF):\n",
    "\n",
    "The PMF is used for describing the probability distribution of a discrete random variable. A discrete random variable is one that takes on a finite or countable number of distinct values.\n",
    "\n",
    "#Example\n",
    "The possible outcomes of rolling the die are {1, 2, 3, 4, 5, 6}. The PMF for this die would be:\n",
    "\n",
    "P(X = 1) = 1/6\n",
    "P(X = 2) = 1/6\n",
    "P(X = 3) = 1/6\n",
    "P(X = 4) = 1/6\n",
    "P(X = 5) = 1/6\n",
    "P(X = 6) = 1/6"
   ]
  },
  {
   "cell_type": "code",
   "execution_count": null,
   "id": "281d23a9-452a-411a-a860-ed90a6e4533c",
   "metadata": {},
   "outputs": [],
   "source": [
    "The PDF is used for describing the probability distribution of a continuous random variable. A continuous random variable can take on any value within a range, and it is represented by a continuous function\n",
    "\n",
    "#Example\n",
    "Say we have a continuous random variable whose probability density function is given by f(x) = x + 2, when 0 < x ≤ 2"
   ]
  },
  {
   "cell_type": "code",
   "execution_count": null,
   "id": "6d6e9aaf-2013-4fa4-b036-e8b6389e634c",
   "metadata": {},
   "outputs": [],
   "source": [
    "#Question 2"
   ]
  },
  {
   "cell_type": "code",
   "execution_count": null,
   "id": "9af91625-d452-467e-ba31-85fadf5825ff",
   "metadata": {},
   "outputs": [],
   "source": [
    "The Cumulative Distribution Function (CDF) of a real-valued random variable X, evaluated at x, is the probability function that X will take a value less than or equal to x. It is used to describe the probability distribution of random variables in a table.\n",
    "\n",
    "#Example\n",
    "Consider the random variable X representing the outcome of rolling a fair six-sided die.\n",
    "\n",
    "The CDF for this random variable would look like this:\n",
    "\n",
    "F(x) = P(X ≤ x)\n",
    "\n",
    "F(1) = P(X ≤ 1) = 1/6 (because there is a 1/6 probability of getting a 1 or less when rolling the die).\n",
    "F(2) = P(X ≤ 2) = 2/6 (the probability of getting a 2 or less is 2/6).\n",
    "F(3) = P(X ≤ 3) = 3/6 (the probability of getting a 3 or less is 3/6, and so on).\n",
    "So, the CDF for a fair six-sided die would be a step function that starts at 0 and increases by 1/6 at each step (at each possible outcome)."
   ]
  },
  {
   "cell_type": "code",
   "execution_count": null,
   "id": "1b8f3729-35dd-4fed-a3bc-0fd4c26862f2",
   "metadata": {},
   "outputs": [],
   "source": [
    "Use the CDF to determine the likelihood that a random observation taken from the population will be less than or equal to a particular value."
   ]
  },
  {
   "cell_type": "code",
   "execution_count": 2,
   "id": "e9d2fb2a-811f-4be8-b1e2-4d65697ea125",
   "metadata": {},
   "outputs": [],
   "source": [
    "#Question 3"
   ]
  },
  {
   "cell_type": "code",
   "execution_count": null,
   "id": "6a07c2d3-b66d-47ae-a1bb-358613012fef",
   "metadata": {},
   "outputs": [],
   "source": [
    "The normal distribution, also known as the Gaussian distribution or bell curve, is a widely used probability distribution in statistics and probability theory. It is employed as a model in many real-world situations because it has some key properties that make it applicable in a variety of contexts. \n",
    "\n",
    "examples of situations where the normal distribution might be used as a model:\n",
    "  Test Scores: In educational and psychological testing, test scores often follow a normal distribution. This is particularly true for standardized tests like the SAT or IQ tests.  "
   ]
  },
  {
   "cell_type": "code",
   "execution_count": null,
   "id": "2806248c-9789-4c3f-8181-84fff138783a",
   "metadata": {},
   "outputs": [],
   "source": [
    "The parameters of the normal distribution are the mean (μ) and the standard deviation (σ)\n",
    "\n",
    "ean (μ): The mean represents the central or expected value of the distribution. It is the point around which the symmetric bell-shaped curve is centered\n",
    "\n",
    "\n",
    "Standard Deviation (σ): The standard deviation measures the spread or dispersion of the data. A larger standard deviation results in a wider and flatter curve, indicating greater variability in the data"
   ]
  },
  {
   "cell_type": "code",
   "execution_count": 3,
   "id": "b2c034c4-566d-49f0-8322-f6f28463c0bc",
   "metadata": {},
   "outputs": [],
   "source": [
    "#Question 4"
   ]
  },
  {
   "cell_type": "code",
   "execution_count": null,
   "id": "bbf7f51c-a63b-446f-9314-18fa26adc4b0",
   "metadata": {},
   "outputs": [],
   "source": [
    " The normal distribution is important is that many psychological and educational variables are distributed approximately normally. Measures of reading ability, introversion, job satisfaction, and memory are among the many psychological variables approximately normally distributed.\n",
    " \n",
    "\n",
    "\n",
    " #Example\n",
    "    Height, birth weight, reading ability, job satisfaction, or SAT scores are just a few examples of such variables"
   ]
  },
  {
   "cell_type": "code",
   "execution_count": 4,
   "id": "ea7e27a5-722f-40ab-b9ab-04f96077cfb5",
   "metadata": {},
   "outputs": [],
   "source": [
    "#Question 5"
   ]
  },
  {
   "cell_type": "code",
   "execution_count": null,
   "id": "6219bdf5-1daa-4c8e-bac9-4d8540fa735b",
   "metadata": {},
   "outputs": [],
   "source": [
    "Bernoulli distribution is a discrete distribution in which the random variable has only two possible outcomes and a single trial known as a Bernoulli trial\n",
    "\n",
    "#Example \n",
    "tossing a coin{H,T}\n",
    "Pr(H)= 0.5 P\n",
    "Pr(T)=0.5 = 1-p=q\n",
    "\n",
    "\n",
    "The Bernoulli distribution represents the success or failure of a single Bernoulli trial. The Binomial Distribution represents the number of successes and failures in n independent Bernoulli trials for some given value of n"
   ]
  },
  {
   "cell_type": "code",
   "execution_count": 7,
   "id": "c22da052-8226-4876-b246-56c8a8b5960a",
   "metadata": {},
   "outputs": [],
   "source": [
    "#Question 6"
   ]
  },
  {
   "cell_type": "code",
   "execution_count": null,
   "id": "d83e12df-827f-47f8-ac22-1df2cd8f506e",
   "metadata": {},
   "outputs": [],
   "source": [
    "mean (μ) of 50 and a standard deviation (σ) of 10 will be greater than 60\n",
    "\n",
    "use the z-score formula and then look up the z-score in a standard normal distribution table (z-table)\n",
    "\n",
    "Calculate the z-score (standard score) for the value 60 using the formula:\n",
    "\n",
    "z = (X - μ) / σ\n",
    "\n",
    "Where:\n",
    "\n",
    "X is the value you want to find the probability for (in this case, 60).\n",
    "μ is the mean (50).\n",
    "σ is the standard deviation (10).\n",
    "z = (60 - 50) / 10\n",
    "z = 10 / 10\n",
    "z = 1\n",
    "\n",
    "\n",
    "\n",
    "The probability associated with a z-score of 1 represents the area to the right of the z-score (greater than 60)\n",
    "\n",
    "\n",
    "Using a standard normal distribution \n",
    " P(Z > 1) is approximately 0.1587.\n",
    "    dataset will be greater than 60 is approximately 0.1587, or 15.87%.\n"
   ]
  },
  {
   "cell_type": "code",
   "execution_count": 8,
   "id": "5566dc3a-7cba-4770-a8c2-1a752b6ea5ce",
   "metadata": {},
   "outputs": [],
   "source": [
    "#Question 7"
   ]
  },
  {
   "cell_type": "code",
   "execution_count": null,
   "id": "0a90f235-cfaf-4c98-ad70-64499a16ce0f",
   "metadata": {},
   "outputs": [],
   "source": [
    "uniform distribution refers to a type of probability distribution in which all outcomes are equally likely\n",
    "\n",
    "#Example\n",
    "A good example of a discrete uniform distribution would be the possible outcomes of rolling a 6-sided die. The possible values would be 1, 2, 3, 4, 5, or 6. In this case, each of the six numbers has an equal chance of appearing."
   ]
  },
  {
   "cell_type": "code",
   "execution_count": 9,
   "id": "7ad92aca-33fe-48a2-9911-1b9774e2b0db",
   "metadata": {},
   "outputs": [],
   "source": [
    "#Question 8"
   ]
  },
  {
   "cell_type": "code",
   "execution_count": null,
   "id": "561282cf-999c-4a5d-8039-743798e4c3b8",
   "metadata": {},
   "outputs": [],
   "source": [
    "A z-score is a statistical measurement that tells you how far away from the mean (or average) your datum lies in a normally distributed sample.\n",
    "\n",
    "The z-score is particularly important because it tells you not only something about the value itself, but also where the value lies in the distribution."
   ]
  },
  {
   "cell_type": "code",
   "execution_count": 10,
   "id": "f01a4961-8241-4a71-a4b4-c58535ca2e3c",
   "metadata": {},
   "outputs": [],
   "source": [
    "#Question 9\n"
   ]
  },
  {
   "cell_type": "code",
   "execution_count": null,
   "id": "897738fa-7583-4e59-82a1-f273a616f82f",
   "metadata": {},
   "outputs": [],
   "source": [
    "The central limit theorem (CLT) states that the distribution of sample means approximates a normal distribution as the sample size gets larger, regardless of the population's distribution.\n",
    "\n",
    "\n",
    "The central limit theorem is useful when analyzing large data sets because it allows one to assume that the sampling distribution of the mean will be normally-distributed in most cases\n"
   ]
  },
  {
   "cell_type": "code",
   "execution_count": 11,
   "id": "de7b12c9-da65-40b7-bd47-d23d716c7051",
   "metadata": {},
   "outputs": [],
   "source": [
    "#Question 10"
   ]
  },
  {
   "cell_type": "code",
   "execution_count": null,
   "id": "454de16d-bba7-435b-a250-2863ef65286b",
   "metadata": {},
   "outputs": [],
   "source": [
    "The Central Limit Theorem (CLT) is a fundamental concept in statistics, and it states that, under certain conditions, the distribution of the sample means of a random variable will be approximately normally distributed, regardless of the underlying distribution of the population\n",
    "\n",
    "Central Limit Theorem, several assumptions must be met:\n",
    "    \n",
    "    "
   ]
  }
 ],
 "metadata": {
  "kernelspec": {
   "display_name": "Python 3 (ipykernel)",
   "language": "python",
   "name": "python3"
  },
  "language_info": {
   "codemirror_mode": {
    "name": "ipython",
    "version": 3
   },
   "file_extension": ".py",
   "mimetype": "text/x-python",
   "name": "python",
   "nbconvert_exporter": "python",
   "pygments_lexer": "ipython3",
   "version": "3.10.8"
  }
 },
 "nbformat": 4,
 "nbformat_minor": 5
}
